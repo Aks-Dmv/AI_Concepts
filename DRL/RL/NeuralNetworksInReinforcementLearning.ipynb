{
 "cells": [
  {
   "cell_type": "markdown",
   "metadata": {},
   "source": [
    "# Neural Networks in RL"
   ]
  },
  {
   "cell_type": "code",
   "execution_count": 1,
   "metadata": {
    "collapsed": true
   },
   "outputs": [],
   "source": [
    "import tensorflow as tf\n",
    "import numpy as np\n",
    "import gym"
   ]
  },
  {
   "cell_type": "markdown",
   "metadata": {},
   "source": [
    "This should be pretty straight forward. We init func and attributes."
   ]
  },
  {
   "cell_type": "code",
   "execution_count": 2,
   "metadata": {
    "collapsed": true
   },
   "outputs": [],
   "source": [
    "class PolicyGradientAgent:\n",
    "\n",
    "    def __init__(self, num_actions, state_dim, num_hidden):\n",
    "        self.num_actions = num_actions\n",
    "        self.state_dim = state_dim\n",
    "        self.num_hidden = num_hidden\n",
    "        self.build_policy_graph()\n",
    "        self.build_value_graph()"
   ]
  },
  {
   "cell_type": "markdown",
   "metadata": {},
   "source": [
    "### OK, it get's tricky from here on."
   ]
  },
  {
   "cell_type": "markdown",
   "metadata": {},
   "source": [
    "Let us go through this step by step.  \n",
    "1) The params is a tf.get_variable which will be of size [state_dim, no.actions]. If it ain't ringing any bells let me explain, this is like the time when we mat_mul the one hot encoding to select the correct state followed by the sigmoid and argmax to select which action.  \n",
    "### Ok Bro, NN time.  \n",
    "2) The state place holder is of dim [unknown, state_dim]. This is the classic supervised training init.  \n",
    "3) Similarly actions (which is one hot (obvi)) and advantages.\n"
   ]
  },
  {
   "cell_type": "code",
   "execution_count": null,
   "metadata": {
    "collapsed": true
   },
   "outputs": [],
   "source": [
    "    def build_policy_graph(self):\n",
    "\n",
    "        params = tf.get_variable('policy_params', [self.state_dim, self.num_actions])  # [4, 2]\n",
    "        self.pl_state = tf.placeholder(tf.float32, [None, self.state_dim], name='state')  # [bs, 4]\n",
    "        self.pl_actions = tf.placeholder(tf.float32, [None, self.num_actions], name='actions')  # 1-hot vector\n",
    "        self.pl_advantages = tf.placeholder(tf.float32, [None, 1], name='advantages')\n",
    "        # inference\n",
    "        linear = tf.matmul(self.pl_state, params)  # [bs, 2]\n",
    "        self.pl_probabilities = tf.nn.softmax(linear)  # [bs, 2]\n",
    "        # loss calculation\n",
    "        good_probs = tf.reduce_sum(tf.multiply(self.pl_probabilities, self.pl_actions), axis=1)\n",
    "        loss = -tf.reduce_sum(tf.log(good_probs) * self.pl_advantages)\n",
    "        # # setup the optimizer\n",
    "        self.pl_optimizer = tf.train.AdamOptimizer(0.01).minimize(loss)"
   ]
  }
 ],
 "metadata": {
  "kernelspec": {
   "display_name": "Python 3",
   "language": "python",
   "name": "python3"
  },
  "language_info": {
   "codemirror_mode": {
    "name": "ipython",
    "version": 3
   },
   "file_extension": ".py",
   "mimetype": "text/x-python",
   "name": "python",
   "nbconvert_exporter": "python",
   "pygments_lexer": "ipython3",
   "version": "3.6.0"
  }
 },
 "nbformat": 4,
 "nbformat_minor": 2
}
