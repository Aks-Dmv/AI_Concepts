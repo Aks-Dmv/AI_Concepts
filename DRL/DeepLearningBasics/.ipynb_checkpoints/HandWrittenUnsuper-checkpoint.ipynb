{
 "cells": [
  {
   "cell_type": "markdown",
   "metadata": {},
   "source": [
    "# Unsupervised learning little advanced"
   ]
  },
  {
   "cell_type": "markdown",
   "metadata": {},
   "source": [
    "Let us start with auto-encoder code. It is super simple.  \n",
    "### Note that the code won't run because the dataset and other stuff like that aren't there\n",
    "This is kinda like a skeleton code"
   ]
  },
  {
   "cell_type": "code",
   "execution_count": 2,
   "metadata": {
    "collapsed": false
   },
   "outputs": [],
   "source": [
    "import numpy as np\n",
    "import theano\n",
    "import theano.tensor as T\n",
    "import matplotlib.pyplot as plt\n",
    "\n",
    "from sklearn.utils import shuffle\n"
   ]
  },
  {
   "cell_type": "markdown",
   "metadata": {},
   "source": [
    "Ok, so the T shared zeros like 32 function is just taking in a theano shared variable and creating another shared variable (of zero value) with the exact same shape"
   ]
  },
  {
   "cell_type": "code",
   "execution_count": null,
   "metadata": {
    "collapsed": true
   },
   "outputs": [],
   "source": [
    "def T_shared_zeros_like32(p):\n",
    "    # p is a Theano shared itself\n",
    "    return theano.shared(np.zeros_like(p.get_value(), dtype=np.float32))\n",
    "\n",
    "def momentum_updates(cost, params, mu, learning_rate):\n",
    "    # momentum changes\n",
    "    dparams = [T_shared_zeros_like32(p) for p in params]\n",
    "\n",
    "    updates = []\n",
    "    grads = T.grad(cost, params)\n",
    "    for p, dp, g in zip(params, dparams, grads):\n",
    "        dp_update = mu*dp - learning_rate*g\n",
    "        p_update = p + dp_update\n",
    "\n",
    "        updates.append((dp, dp_update))\n",
    "        updates.append((p, p_update))\n",
    "    return updates"
   ]
  }
 ],
 "metadata": {
  "kernelspec": {
   "display_name": "Python 3",
   "language": "python",
   "name": "python3"
  },
  "language_info": {
   "codemirror_mode": {
    "name": "ipython",
    "version": 3
   },
   "file_extension": ".py",
   "mimetype": "text/x-python",
   "name": "python",
   "nbconvert_exporter": "python",
   "pygments_lexer": "ipython3",
   "version": "3.6.0"
  }
 },
 "nbformat": 4,
 "nbformat_minor": 2
}
